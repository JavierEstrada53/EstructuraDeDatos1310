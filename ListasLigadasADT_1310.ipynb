{
  "nbformat": 4,
  "nbformat_minor": 0,
  "metadata": {
    "colab": {
      "name": "ListasLigadasADT_1310.ipynb",
      "provenance": [],
      "collapsed_sections": []
    },
    "kernelspec": {
      "name": "python3",
      "display_name": "Python 3"
    },
    "language_info": {
      "name": "python"
    }
  },
  "cells": [
    {
      "cell_type": "markdown",
      "metadata": {
        "id": "4S9Rimz60jpC"
      },
      "source": [
        "#Ejercicios con la clase Nodo\n",
        "- Crear un nodo\n",
        "    - Imprimir el valor del nodo\n",
        "- Crear dos nodos\n",
        "    - Imprimir el valor del primero\n",
        "    - Imprimir el valor del segundo\n",
        "    - Transversal\n",
        "- Lo mismo pero con 4 nodos( 10, 20, 30, 40)\n",
        "    - Imprimir el valor del primero\n",
        "    - Imprimir el valor del segundo\n",
        "    - Transversal   \n",
        "### Todo esto antes de ir a la escritura formal del ADT lista ligada."
      ]
    },
    {
      "cell_type": "code",
      "metadata": {
        "id": "C0HpW15T0eW5"
      },
      "source": [
        "class Nodo:\n",
        "    def __init__( self, value, siguiente = None ):\n",
        "        self.data = value\n",
        "        self.next = siguiente\n"
      ],
      "execution_count": 2,
      "outputs": []
    },
    {
      "cell_type": "code",
      "metadata": {
        "colab": {
          "base_uri": "https://localhost:8080/"
        },
        "id": "HaFjwvK51tFo",
        "outputId": "fbb3b746-4418-4b2c-8436-fe0645ca5d63"
      },
      "source": [
        "head = Nodo(10)\n",
        "print(head.data)\n",
        "print(head.next)"
      ],
      "execution_count": 3,
      "outputs": [
        {
          "output_type": "stream",
          "name": "stdout",
          "text": [
            "10\n",
            "None\n"
          ]
        }
      ]
    },
    {
      "cell_type": "code",
      "metadata": {
        "colab": {
          "base_uri": "https://localhost:8080/"
        },
        "id": "StyUlHTy2g6i",
        "outputId": "26e4cc9f-4646-4284-d414-0b9d66910801"
      },
      "source": [
        "head = Nodo(10)\n",
        "head.next = Nodo(20)\n",
        "print('Primero %s' %(head.data))\n",
        "print('Segundo %s' %(head.next.data))\n",
        "\n",
        "#lo mismo pero ahorrando código\n",
        "head = Nodo (10, Nodo(20))\n",
        "print('Primero %s' %(head.data))\n",
        "print('Segundo %s' %(head.next.data))\n",
        "\n",
        "#Transversal\n",
        "curr_node = head\n",
        "while curr_node != None:\n",
        "    print(f'| {curr_node.data} | --> ', end='')\n",
        "    curr_node = curr_node.next\n",
        "print('')"
      ],
      "execution_count": 4,
      "outputs": [
        {
          "output_type": "stream",
          "name": "stdout",
          "text": [
            "Primero 10\n",
            "Segundo 20\n",
            "Primero 10\n",
            "Segundo 20\n",
            "| 10 | --> | 20 | --> \n"
          ]
        }
      ]
    },
    {
      "cell_type": "code",
      "metadata": {
        "colab": {
          "base_uri": "https://localhost:8080/"
        },
        "id": "pud6PhVF64DT",
        "outputId": "3cafec07-cd11-4fd8-c8bd-fb7542361746"
      },
      "source": [
        "head = Nodo(10, Nodo(20, Nodo(30, Nodo(40))))\n",
        "curr_node = head\n",
        "while curr_node != None:\n",
        "    print(f'| {curr_node.data} | --> ', end='')\n",
        "    curr_node = curr_node.next\n",
        "print('')\n",
        "\n",
        "#imprimir el primero\n",
        "print(head.data)\n",
        "#imprimir el último\n",
        "curr_node= head\n",
        "while curr_node.next != None:\n",
        "    curr_node = curr_node.next\n",
        "print(curr_node.data)\n",
        "\n",
        "#Insertar el nodo 25 después del nodo 20 y antes del nodo 30\n",
        "# 1) Nos ubicamos después del 20\n",
        "curr_node = head\n",
        "while curr_node.data != 20:\n",
        "    curr_node = curr_node.next\n",
        "print(curr_node.data)\n",
        "\n",
        "# 2) crear nodo 25\n",
        "curr_node.next=Nodo(25, curr_node.next)\n",
        "curr_node = head\n",
        "\n",
        "#imprimimos la lista\n",
        "while curr_node != None:\n",
        "    print(f'| {curr_node.data} | --> ', end='')\n",
        "    curr_node = curr_node.next\n",
        "print('')"
      ],
      "execution_count": 6,
      "outputs": [
        {
          "output_type": "stream",
          "name": "stdout",
          "text": [
            "| 10 | --> | 20 | --> | 30 | --> | 40 | --> \n",
            "10\n",
            "40\n",
            "20\n",
            "| 10 | --> | 20 | --> | 25 | --> | 30 | --> | 40 | --> \n"
          ]
        }
      ]
    },
    {
      "cell_type": "code",
      "metadata": {
        "id": "IMG5X3FEc71E"
      },
      "source": [
        "class LinkedList:\n",
        "    def __init__( self ):\n",
        "        self.head = None\n",
        "\n",
        "    def is_empty( self ):\n",
        "        return self.head == None\n",
        "        \n",
        "    def get_tail( self ):\n",
        "        if self.is_empty():\n",
        "            return None\n",
        "        else:\n",
        "            curr_node = self.head\n",
        "            while curr_node.next != None:\n",
        "                curr_node = curr_node.next\n",
        "            return curr_node\n",
        "\n",
        "    def append( self , value ):\n",
        "        if self.head == None:\n",
        "            self.head = Nodo ( value )\n",
        "        else:\n",
        "            curr_node = self.head\n",
        "            while curr_node.next != None:\n",
        "                curr_node = curr_node.next\n",
        "            curr_node.next = Nodo( value )\n",
        "\n",
        "    def transversal( self ):\n",
        "        curr_node = self.head\n",
        "        while curr_node != None:\n",
        "            print(f'| {curr_node.data} | --> ', end='')\n",
        "            curr_node = curr_node.next\n",
        "        print('')\n",
        "\n",
        "    def remove( self, value ):\n",
        "        if self.head == None:\n",
        "            print( 'La lista está vacía, no se puede remover nada')\n",
        "        else:\n",
        "            curr_node = self.head\n",
        "            aux = None\n",
        "\n",
        "            while curr_node.data != value: #revisar cuando el valor no exista\n",
        "                aux = curr_node\n",
        "                curr_node = curr_node.next\n",
        "\n",
        "            if curr_node != None:\n",
        "                aux.next = curr_node.next\n",
        "                curr_node = None\n",
        "\n",
        "    def preppend( self, value ):\n",
        "        if self.head == None:\n",
        "            print('Está vacío, no se puede hacer prepend')\n",
        "        else:\n",
        "            aux = self.head\n",
        "            self.head = Nodo ( value , aux )"
      ],
      "execution_count": 47,
      "outputs": []
    },
    {
      "cell_type": "code",
      "metadata": {
        "colab": {
          "base_uri": "https://localhost:8080/"
        },
        "id": "AzIsjZYNffZA",
        "outputId": "52fbd70b-fed3-46ce-86e8-13c72077a5a1"
      },
      "source": [
        "lista = LinkedList()\n",
        "if lista.is_empty():\n",
        "    print('La lista está vacía')\n",
        "else:\n",
        "    print('La lista no está vacía')\n",
        "\n",
        "lista.append(10)\n",
        "lista.append(20)\n",
        "lista.append(30)\n",
        "lista.append(40)\n",
        "lista.append(50)\n",
        "nodo = lista.get_tail()#imprime el últmio valor\n",
        "\n",
        "if nodo != None:\n",
        "    print(nodo.data)\n",
        "else:\n",
        "    print('La lista está vacía')\n",
        "\n",
        "lista.preppend(5)\n",
        "print('Después del preppend')\n",
        "lista.remove(30)# quitamos el 30\n",
        "lista.transversal()"
      ],
      "execution_count": 48,
      "outputs": [
        {
          "output_type": "stream",
          "name": "stdout",
          "text": [
            "La lista está vacía\n",
            "50\n",
            "Después del preppend\n",
            "| 5 | --> | 10 | --> | 20 | --> | 40 | --> | 50 | --> \n"
          ]
        }
      ]
    }
  ]
}