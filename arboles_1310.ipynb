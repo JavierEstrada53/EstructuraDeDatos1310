{
  "nbformat": 4,
  "nbformat_minor": 0,
  "metadata": {
    "colab": {
      "name": "arboles_1310.ipynb",
      "provenance": [],
      "collapsed_sections": []
    },
    "kernelspec": {
      "name": "python3",
      "display_name": "Python 3"
    },
    "language_info": {
      "name": "python"
    }
  },
  "cells": [
    {
      "cell_type": "code",
      "metadata": {
        "id": "sYeSvYaFCLXd"
      },
      "source": [
        "class NodoBinario:\n",
        "    def __init__( self , value , left = None , right = None ):\n",
        "        self.data = value\n",
        "        self.left = left\n",
        "        self.right = right\n",
        "\n",
        "class NodoTernario:\n",
        "    def __init__( self , value , left = None , center = None , right = None ):\n",
        "        self.data = value\n",
        "        self.left = left\n",
        "        self.center = center\n",
        "        self.right = right\n"
      ],
      "execution_count": 2,
      "outputs": []
    },
    {
      "cell_type": "code",
      "metadata": {
        "colab": {
          "base_uri": "https://localhost:8080/"
        },
        "id": "p_Ei5di-EJSl",
        "outputId": "f3e00521-fe24-45c8-e418-a2f3f1f10ffc"
      },
      "source": [
        "arbol1 = NodoBinario( 'R' , NodoBinario(' C ') ,  NodoBinario(' H '))\n",
        "print(arbol1.right.data, '\\n')\n",
        "\n",
        "arbol2 = NodoTernario(4, NodoTernario(3,NodoTernario(5,left = NodoTernario(2)) , NodoTernario(5), NodoTernario( 2 )) , None , NodoTernario( 5 ))\n",
        "\n",
        "\n",
        "print(arbol2.left.right.data)\n",
        "print(arbol2.data)\n",
        "print(arbol2.left.center.data)\n",
        "print(arbol2.right.left)\n",
        "print(arbol2.left.left.left.data)\n",
        "print('--- Sin usar la palabra left en el print ---')\n",
        "ejemplo = arbol2.left.left.left.data\n",
        "print( ejemplo )\n",
        "print('--- Otra forma ---')\n",
        "aux = arbol2\n",
        "while( aux.left != None ):\n",
        "    aux = aux.left\n",
        "print( aux.data )"
      ],
      "execution_count": 3,
      "outputs": [
        {
          "output_type": "stream",
          "name": "stdout",
          "text": [
            " H  \n",
            "\n",
            "2\n",
            "4\n",
            "5\n",
            "None\n",
            "2\n",
            "--- Sin usar la palabra left en el print ---\n",
            "2\n",
            "--- Otra forma ---\n",
            "2\n"
          ]
        }
      ]
    },
    {
      "cell_type": "code",
      "metadata": {
        "colab": {
          "base_uri": "https://localhost:8080/"
        },
        "id": "D-PMIjp6HHLE",
        "outputId": "0bce05ca-ccd9-4608-fde7-b61cf0f223f1"
      },
      "source": [
        "root = NodoBinario(\"Santi\",None,NodoBinario(\"Jesus\",NodoBinario(\"Pedro\",None,NodoBinario(\" pedro jr\"))))\n",
        "print(root.right.left.right.data)"
      ],
      "execution_count": 8,
      "outputs": [
        {
          "output_type": "stream",
          "name": "stdout",
          "text": [
            " pedro jr\n"
          ]
        }
      ]
    }
  ]
}