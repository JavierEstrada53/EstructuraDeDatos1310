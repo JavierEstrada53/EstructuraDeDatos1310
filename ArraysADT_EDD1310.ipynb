{
  "nbformat": 4,
  "nbformat_minor": 0,
  "metadata": {
    "colab": {
      "name": "ArraysADT_EDD1310.ipynb",
      "provenance": [],
      "collapsed_sections": [],
      "authorship_tag": "ABX9TyMi1SMLXlT/BB+lejJKLFyl",
      "include_colab_link": true
    },
    "kernelspec": {
      "name": "python3",
      "display_name": "Python 3"
    },
    "language_info": {
      "name": "python"
    }
  },
  "cells": [
    {
      "cell_type": "markdown",
      "metadata": {
        "id": "view-in-github",
        "colab_type": "text"
      },
      "source": [
        "<a href=\"https://colab.research.google.com/github/JavierEstrada53/EstructuraDeDatos1310/blob/main/ArraysADT_EDD1310.ipynb\" target=\"_parent\"><img src=\"https://colab.research.google.com/assets/colab-badge.svg\" alt=\"Open In Colab\"/></a>"
      ]
    },
    {
      "cell_type": "markdown",
      "metadata": {
        "id": "u2X_6m1Ef5qu"
      },
      "source": [
        ""
      ]
    },
    {
      "cell_type": "code",
      "metadata": {
        "colab": {
          "base_uri": "https://localhost:8080/"
        },
        "id": "yBE8KWmXfvHK",
        "outputId": "f9e2d798-c500-4dda-9d0f-24e6bae3f817"
      },
      "source": [
        "class Array:\n",
        "  def __init__(self, tam): #tam-->tamaño\n",
        "    self.__tamanio = tam\n",
        "    self.__data = [0 for x in range (self.__tamanio)]\n",
        "\n",
        "  def to_string(self):\n",
        "    info=''\n",
        "    for dato in self.__data:\n",
        "      info = info + str(dato) + '|'\n",
        "    return info\n",
        "\n",
        "  def get_item(self, index):\n",
        "    return self.__data[index]\n",
        "\n",
        "  def get_length(self):\n",
        "    return len(self.__data)\n",
        "\n",
        "  def set_item(self, dato, index):\n",
        "    if index>=0 and index < self.get_length():\n",
        "      self.__data[index]= dato\n",
        "    else: \n",
        "      print('ERROR: Índice fuera de rango')\n",
        "\n",
        "  def clear(self,dato):\n",
        "    self.__data = [dato for x in range(self.__tamanio)]\n",
        "\n",
        "\n",
        "ejemplo = Array(20)\n",
        "print(ejemplo.to_string())\n",
        "print(ejemplo.get_item(2))\n",
        "ejemplo.set_item(45,2)\n",
        "print(ejemplo.to_string())\n",
        "print(ejemplo.get_length())\n",
        "\n"
      ],
      "execution_count": 2,
      "outputs": [
        {
          "output_type": "stream",
          "name": "stdout",
          "text": [
            "0|0|0|0|0|0|0|0|0|0|0|0|0|0|0|0|0|0|0|0|\n",
            "0\n",
            "0|0|45|0|0|0|0|0|0|0|0|0|0|0|0|0|0|0|0|0|\n",
            "20\n"
          ]
        }
      ]
    },
    {
      "cell_type": "code",
      "metadata": {
        "colab": {
          "base_uri": "https://localhost:8080/"
        },
        "id": "9VWB9BCVgdcZ",
        "outputId": "7ccd7aa3-b8f9-4d39-b990-34d357e4bf89"
      },
      "source": [
        "lista = [3 * x for x in range (5)]\n",
        "print(lista)"
      ],
      "execution_count": null,
      "outputs": [
        {
          "output_type": "stream",
          "name": "stdout",
          "text": [
            "[0, 3, 6, 9, 12]\n"
          ]
        }
      ]
    },
    {
      "cell_type": "code",
      "metadata": {
        "colab": {
          "base_uri": "https://localhost:8080/"
        },
        "id": "UOz3Ki18lzdX",
        "outputId": "ab82aa4c-d10b-42fa-8584-7cee965f7b69"
      },
      "source": [
        "!cat junio.dat\n",
        "\n"
      ],
      "execution_count": 4,
      "outputs": [
        {
          "output_type": "stream",
          "name": "stdout",
          "text": [
            "numero de trabajador, nombres, paterno, materno, horas extra, sueldo base, año de ingreso\r\n",
            "2345,CARLOS,PEREZ,CASTILLO,0,9850,2017\r\n",
            "5754,ANGEL,GOMEZ,GARRIDO,1,9850,2020\r\n",
            "5345,JESUS,MARTIN,SANTOS,2,9850,2016\r\n",
            "3267,DAVID,JIMENEZ,LOZANO,2,9850,2017\r\n",
            "8765,PEDRO,RUIZ,GUERRERO,2,9850,2017\r\n",
            "5454,DANIEL,HERNANDEZ,CANO,3,9850,2018\r\n",
            "3456,ALEJANDRO,DIAZ,PRIETO,2,9850,2018\r\n",
            "3445,MARIA,MORENO,MENDEZ,1,9850,2018\r\n",
            "9088,ALBERTO,MU�OZ,CRUZ,1,9850,2017\r\n",
            "8877,RAFAEL,ALVAREZ,FLORES,2,9850,2017\r\n",
            "6767,FERNANDO,ROMERO,HERRERA,4,9850,2019\r\n",
            "5654,PABLO,ALONSO,GALLEGO,1,9850,2019\r\n",
            "4323,JORGE,GUTIERREZ,MARQUEZ,2,9850,2020\r\n",
            "2232,RAMON,NAVARRO,LEON,1,9850,2016"
          ]
        }
      ]
    },
    {
      "cell_type": "code",
      "metadata": {
        "colab": {
          "base_uri": "https://localhost:8080/",
          "height": 231
        },
        "id": "h988FZs8m_J5",
        "outputId": "c148316e-702f-4f62-b68a-e6b7f8eef501"
      },
      "source": [
        "archivo = open('junio.dat','rt', encoding = 'latin-1')\n",
        "archivo2 = junio.dat\n",
        "print(archivo.read())\n",
        "archivo2 = archivo2.split()\n",
        "print(type(archivo2))"
      ],
      "execution_count": 15,
      "outputs": [
        {
          "output_type": "error",
          "ename": "NameError",
          "evalue": "ignored",
          "traceback": [
            "\u001b[0;31m---------------------------------------------------------------------------\u001b[0m",
            "\u001b[0;31mNameError\u001b[0m                                 Traceback (most recent call last)",
            "\u001b[0;32m<ipython-input-15-82abe9e0a3a2>\u001b[0m in \u001b[0;36m<module>\u001b[0;34m()\u001b[0m\n\u001b[1;32m      1\u001b[0m \u001b[0marchivo\u001b[0m \u001b[0;34m=\u001b[0m \u001b[0mopen\u001b[0m\u001b[0;34m(\u001b[0m\u001b[0;34m'junio.dat'\u001b[0m\u001b[0;34m,\u001b[0m\u001b[0;34m'rt'\u001b[0m\u001b[0;34m,\u001b[0m \u001b[0mencoding\u001b[0m \u001b[0;34m=\u001b[0m \u001b[0;34m'latin-1'\u001b[0m\u001b[0;34m)\u001b[0m\u001b[0;34m\u001b[0m\u001b[0;34m\u001b[0m\u001b[0m\n\u001b[0;32m----> 2\u001b[0;31m \u001b[0marchivo2\u001b[0m \u001b[0;34m=\u001b[0m \u001b[0mjunio\u001b[0m\u001b[0;34m.\u001b[0m\u001b[0mdat\u001b[0m\u001b[0;34m\u001b[0m\u001b[0;34m\u001b[0m\u001b[0m\n\u001b[0m\u001b[1;32m      3\u001b[0m \u001b[0mprint\u001b[0m\u001b[0;34m(\u001b[0m\u001b[0marchivo\u001b[0m\u001b[0;34m.\u001b[0m\u001b[0mread\u001b[0m\u001b[0;34m(\u001b[0m\u001b[0;34m)\u001b[0m\u001b[0;34m)\u001b[0m\u001b[0;34m\u001b[0m\u001b[0;34m\u001b[0m\u001b[0m\n\u001b[1;32m      4\u001b[0m \u001b[0marchivo2\u001b[0m \u001b[0;34m=\u001b[0m \u001b[0marchivo2\u001b[0m\u001b[0;34m.\u001b[0m\u001b[0msplit\u001b[0m\u001b[0;34m(\u001b[0m\u001b[0;34m)\u001b[0m\u001b[0;34m\u001b[0m\u001b[0;34m\u001b[0m\u001b[0m\n\u001b[1;32m      5\u001b[0m \u001b[0mprint\u001b[0m\u001b[0;34m(\u001b[0m\u001b[0mtype\u001b[0m\u001b[0;34m(\u001b[0m\u001b[0marchivo2\u001b[0m\u001b[0;34m)\u001b[0m\u001b[0;34m)\u001b[0m\u001b[0;34m\u001b[0m\u001b[0;34m\u001b[0m\u001b[0m\n",
            "\u001b[0;31mNameError\u001b[0m: name 'junio' is not defined"
          ]
        }
      ]
    },
    {
      "cell_type": "code",
      "metadata": {
        "id": "9pCykzcnn-ri"
      },
      "source": [
        "class Trabajador:\n",
        "  def __init__(self, nt, nom, pat, mat, he, sb, ai):\n",
        "    self.__numero_trabajador = nt\n",
        "    #así para todos los atributos\n",
        "\n",
        "  #aquí van todos los métodos de acceso\n",
        "  def set__numero_trabajador (self, nt):\n",
        "    self.__numero_trabajador = nt\n",
        "\n",
        "  #métodos de uso general --> métodos que hacen calculos de la lógica del negocio\n",
        "  "
      ],
      "execution_count": null,
      "outputs": []
    },
    {
      "cell_type": "code",
      "metadata": {
        "id": "uue186DWqEB-"
      },
      "source": [
        "class Nomina:\n",
        "  def __init__(self, ruta_archivo):\n",
        "    #abrir el archivo y determinar el número de empleados --> num_emp\n",
        "    self.__data = Array( num_emp)\n",
        "\n",
        "  def calcular_sueldos(self):\n",
        "    #iterar sobre el array y hacer el cálculo de sueldos\n",
        "\n",
        "  def buscar_mas_antiguo (self):\n",
        "    #iterear y buscará en el array el de mayor antigüedad en el puesto\n",
        "\n",
        "  def buscar_menor_antiguedad (self):\n",
        "    #iterear y buscará en el array el de menor antigüedad en el puesto\n"
      ],
      "execution_count": null,
      "outputs": []
    },
    {
      "cell_type": "code",
      "metadata": {
        "colab": {
          "base_uri": "https://localhost:8080/"
        },
        "id": "mOAHequ-sYnE",
        "outputId": "b740efb9-1f5d-4d7b-e22d-95ca33244a90"
      },
      "source": [
        "sueldo_base = 100\n",
        "anio = 2019\n",
        "anti = 2\n",
        "prestacion = 100 * (2 * 0.03)\n",
        "print(sueldo_base + prestacion)"
      ],
      "execution_count": 14,
      "outputs": [
        {
          "output_type": "stream",
          "name": "stdout",
          "text": [
            "106.0\n"
          ]
        }
      ]
    }
  ]
}