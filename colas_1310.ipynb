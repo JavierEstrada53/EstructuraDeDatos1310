{
  "nbformat": 4,
  "nbformat_minor": 0,
  "metadata": {
    "colab": {
      "name": "colas_1310.ipynb",
      "provenance": []
    },
    "kernelspec": {
      "name": "python3",
      "display_name": "Python 3"
    },
    "language_info": {
      "name": "python"
    }
  },
  "cells": [
    {
      "cell_type": "markdown",
      "metadata": {
        "id": "Qqg8Et_gKnRa"
      },
      "source": [
        "#"
      ]
    },
    {
      "cell_type": "code",
      "metadata": {
        "id": "GBMLT9nvKUx5"
      },
      "source": [
        "class Queue:\n",
        "    def __init__( self ):\n",
        "        self.data = []\n",
        "    \n",
        "    def is_empty( self ):\n",
        "        return len( self.data ) == 0\n",
        "    \n",
        "    def length( self ):\n",
        "        return len( self.data )\n",
        "\n",
        "    def enqueue( self , value ):\n",
        "        self.data.append( value )\n",
        "    \n",
        "    def dequeue( self ):# --> primer valor de la cola\n",
        "        return self.data.pop( 0 )\n",
        "    \n",
        "    def to_string( self ):\n",
        "        for elem in self.data:\n",
        "            print(f' | {elem} | <--', end='')\n",
        "        print('')   "
      ],
      "execution_count": 12,
      "outputs": []
    },
    {
      "cell_type": "code",
      "metadata": {
        "colab": {
          "base_uri": "https://localhost:8080/"
        },
        "id": "LPq7Gy4ANs-9",
        "outputId": "b5f22a27-2638-4d7a-aaca-598c7eb2e835"
      },
      "source": [
        "cola= Queue()\n",
        "print('¿Está vacío?: ', cola.is_empty())\n",
        "print('Número de elementos: ', cola.length())\n",
        "cola.enqueue(10)\n",
        "cola.enqueue(20)\n",
        "cola.enqueue(30)\n",
        "print('¿Está vacío?: ', cola.is_empty())\n",
        "print('Número de elementos: ', cola.length())\n",
        "cola.enqueue(40)\n",
        "cola.enqueue(50)\n",
        "cola.enqueue(60)\n",
        "cola.to_string()\n",
        "siguiente = cola.dequeue()\n",
        "print('Atendiendo a: %s' %(siguiente))\n",
        "cola.to_string()"
      ],
      "execution_count": 13,
      "outputs": [
        {
          "output_type": "stream",
          "name": "stdout",
          "text": [
            "¿Está vacío?:  True\n",
            "Número de elementos:  0\n",
            "¿Está vacío?:  False\n",
            "Número de elementos:  3\n",
            " | 10 | <-- | 20 | <-- | 30 | <-- | 40 | <-- | 50 | <-- | 60 | <--\n",
            "Atendiendo a: 10\n",
            " | 20 | <-- | 30 | <-- | 40 | <-- | 50 | <-- | 60 | <--\n"
          ]
        }
      ]
    },
    {
      "cell_type": "markdown",
      "metadata": {
        "id": "cGZACd5cQvxc"
      },
      "source": [
        "#Variantes del ADT Cola\n",
        "1. Circulares\n",
        "2. Prioridad\n",
        "    1. Acotada\n",
        "    2. No acotada"
      ]
    },
    {
      "cell_type": "code",
      "metadata": {
        "id": "cPXCnMPvQ8nJ"
      },
      "source": [
        ""
      ],
      "execution_count": null,
      "outputs": []
    }
  ]
}