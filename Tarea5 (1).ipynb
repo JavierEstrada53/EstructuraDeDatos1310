{
  "nbformat": 4,
  "nbformat_minor": 0,
  "metadata": {
    "colab": {
      "name": "Tarea5.ipynb",
      "provenance": [],
      "collapsed_sections": []
    },
    "kernelspec": {
      "name": "python3",
      "display_name": "Python 3"
    },
    "language_info": {
      "name": "python"
    }
  },
  "cells": [
    {
      "cell_type": "code",
      "metadata": {
        "id": "X8oGEvgkof5i"
      },
      "source": [
        "class Array:\n",
        "  def __init__( self , tam ):\n",
        "    self.__tamanio = tam\n",
        "    self.__data = [ 0 for x in range(self.__tamanio) ]\n",
        "\n",
        "  def to_string( self ):\n",
        "    info = \"\"\n",
        "    for dato in self.__data:\n",
        "      info = info + str(dato) + \"|\"\n",
        "    return info\n",
        "\n",
        "  def get_item( self , index ):\n",
        "    return self.__data[index]\n",
        "\n",
        "  def get_length( self ):\n",
        "    return len( self.__data )\n",
        "\n",
        "  def set_item( self , dato , index):\n",
        "    if index >= 0 and index < self.get_length():\n",
        "      self.__data[index] = dato\n",
        "    else:\n",
        "      print(\"Error: Índice fuera de rango\")\n",
        "\n",
        "  def clear( self , dato ):\n",
        "    self.__data = [ dato for x in range(self.__tamanio) ]"
      ],
      "execution_count": 6,
      "outputs": []
    },
    {
      "cell_type": "code",
      "metadata": {
        "colab": {
          "base_uri": "https://localhost:8080/"
        },
        "id": "EWyUyvNrBchE",
        "outputId": "09f67eb3-eb34-4d29-8654-2c7bd7ec5114"
      },
      "source": [
        "from io import open\n",
        "archivo = open('junio.dat','rt', encoding = 'latin-1')\n",
        "lineas_archivo = archivo.read()\n",
        "print(lineas_archivo)\n",
        "\n",
        "\n",
        "\n",
        "  \n",
        "\n",
        "\n",
        "\n"
      ],
      "execution_count": 4,
      "outputs": [
        {
          "output_type": "stream",
          "name": "stdout",
          "text": [
            "numero de trabajador, nombres, paterno, materno, horas extra, sueldo base, aÃ±o de ingreso\n",
            "2345,CARLOS,PEREZ,CASTILLO,0,9850,2017\n",
            "5754,ANGEL,GOMEZ,GARRIDO,1,9850,2020\n",
            "5345,JESUS,MARTIN,SANTOS,2,9850,2016\n",
            "3267,DAVID,JIMENEZ,LOZANO,2,9850,2017\n",
            "8765,PEDRO,RUIZ,GUERRERO,2,9850,2017\n",
            "5454,DANIEL,HERNANDEZ,CANO,3,9850,2018\n",
            "3456,ALEJANDRO,DIAZ,PRIETO,2,9850,2018\n",
            "3445,MARIA,MORENO,MENDEZ,1,9850,2018\n",
            "9088,ALBERTO,MUOZ,CRUZ,1,9850,2017\n",
            "8877,RAFAEL,ALVAREZ,FLORES,2,9850,2017\n",
            "6767,FERNANDO,ROMERO,HERRERA,4,9850,2019\n",
            "5654,PABLO,ALONSO,GALLEGO,1,9850,2019\n",
            "4323,JORGE,GUTIERREZ,MARQUEZ,2,9850,2020\n",
            "2232,RAMON,NAVARRO,LEON,1,9850,2016\n"
          ]
        }
      ]
    },
    {
      "cell_type": "code",
      "metadata": {
        "id": "nWHrcNl_BlSP"
      },
      "source": [
        "class Trabajador:\n",
        "  def __init__(self, nt, nom, pat, mat, he, sb, ai):\n",
        "    self.__numero_trabajador = nt\n",
        "    self.__nombre = nom\n",
        "    self.__paterno = pat\n",
        "    self.__materno = mat\n",
        "    self.__horas_extra = he\n",
        "    self.__sueldo_base = sb \n",
        "    self.__anio_ingreso = ai\n",
        "\n",
        "\n",
        "  #Métodos de acceso\n",
        "  def set_numero_trabajador ( self , nt ):\n",
        "    self.__numero_trabajador = nt\n",
        "  def get_numero_trabajador ( self ):\n",
        "    return self.__numero_trabajador\n",
        "\n",
        "  def set_nombre ( self , nom ):\n",
        "    self.__nombre = nom\n",
        "  def get_nombre(self):\n",
        "    return self.__nombre\n",
        "\n",
        "  def set_paterno ( self , pat ):\n",
        "    self.__paterno = pat\n",
        "  def get_paterno( self ):\n",
        "    return self.__paterno\n",
        "\n",
        "  def set_materno ( self , mat ):\n",
        "    self.__materno = mat\n",
        "  def get_materno ( self ):\n",
        "    return self.__materno\n",
        "\n",
        "  def set_horas_extra ( self , he ):\n",
        "    self.__horas_extra = he\n",
        "  def get_horas_extra ( self ):\n",
        "    return self.__horas_extra\n",
        "\n",
        "  def set_sueldo_base ( self , sb ):\n",
        "    self.__sueldo_base = sb\n",
        "  def get_sueldo_base ( self ):\n",
        "    return self.__sueldo_base\n",
        "\n",
        "  def set_anio_ingreso ( self , ai ):\n",
        "    self.__anio_ingreso = ai\n",
        "  def get_anio_ingreso ( self ):\n",
        "    return self.__anio_ingreso\n",
        "\n",
        "  def calcular_sueldo_mensual( self ):\n",
        "    anios = 2021 - self.get_anio_ingreso()\n",
        "    sueldo = self.get_sueldo_base()\n",
        "    #agrega las horas extra\n",
        "    sueldo += self.get_horas_extra() * 276.5\n",
        "    #agrega la prestación por antiguedad\n",
        "    sueldo = sueldo + (sueldo * anios * 0.03)\n",
        "    return sueldo\n",
        "\n",
        "  def to_string( self ):\n",
        "    return '# %s. Nombre: %s %s %s. Sueldo: $%s ' %(self.__numero_trabajador, self.__nombre, self.__paterno, self.__materno, str(self.calcular_sueldo_mensual()))\n",
        "    \n",
        "  \n",
        "  def calcular_antiguedad( self ):\n",
        "    return 2021 - self.get_anio_ingreso())\n",
        "\n",
        "\n",
        "\n",
        "\n",
        "\n",
        "  "
      ],
      "execution_count": 18,
      "outputs": []
    },
    {
      "cell_type": "code",
      "metadata": {
        "colab": {
          "base_uri": "https://localhost:8080/"
        },
        "id": "kKrUqgWsBlv6",
        "outputId": "7e3479d5-2421-4652-aa35-0cb3ba01cf22"
      },
      "source": [
        "class NominaADT:\n",
        "  def __init__ ( self , ruta_archivo ):\n",
        "    #abrir el archivo y determinar el número de empleados --> num_emp\n",
        "    archivo = open( ruta_archivo,'rt', encoding = 'latin-1')\n",
        "    empleados = archivo.readlines()\n",
        "    del empleados[0]\n",
        "    for index in range( len(empleados)):\n",
        "      empleados[index] = empleados[index].strip().split(',')\n",
        "    self.__data = Array( len( empleados ))\n",
        "    cont = 0\n",
        "    for emp in empleados:\n",
        "      tmp = Trabajador( int(emp[0]) , emp[1] , emp[2] , emp[3] , int(emp[4]) , int(emp[5]) , int(emp[6]) )\n",
        "      # tmp --> Trabajador temporal\n",
        "      self.__data.set_item( tmp, cont)\n",
        "      cont += 1\n",
        "\n",
        "\n",
        "  def buscar_mayor_antiguedad (self):\n",
        "    for index in range(self.__data.get_length()):\n",
        "      print(str(self.__data.get_item(index).calcular_antiguedad()))\n",
        "    #iterar y buscará en el array el de mayor antigüedad en el puesto\n",
        "\n",
        "  def calcular_sueldos( self ):#--> método para calcular sueldos\n",
        "    for index in range(self.__data.get_length()):\n",
        "      print(self.__data.get_item(index).to_string())\n",
        "\n",
        "ejemplo = NominaADT('junio.dat')\n",
        "ejemplo.calcular_sueldos()\n",
        "ejemplo.buscar_mayor_antiguedad()"
      ],
      "execution_count": 29,
      "outputs": [
        {
          "output_type": "stream",
          "name": "stdout",
          "text": [
            "# 2345. Nombre: CARLOS PEREZ CASTILLO. Sueldo: $11032.0 \n",
            "# 5754. Nombre: ANGEL GOMEZ GARRIDO. Sueldo: $10430.295 \n",
            "# 5345. Nombre: JESUS MARTIN SANTOS. Sueldo: $11963.45 \n",
            "# 3267. Nombre: DAVID JIMENEZ LOZANO. Sueldo: $11651.36 \n",
            "# 8765. Nombre: PEDRO RUIZ GUERRERO. Sueldo: $11651.36 \n",
            "# 5454. Nombre: DANIEL HERNANDEZ CANO. Sueldo: $11640.655 \n",
            "# 3456. Nombre: ALEJANDRO DIAZ PRIETO. Sueldo: $11339.27 \n",
            "# 3445. Nombre: MARIA MORENO MENDEZ. Sueldo: $11037.885 \n",
            "# 9088. Nombre: ALBERTO MUOZ CRUZ. Sueldo: $11341.68 \n",
            "# 8877. Nombre: RAFAEL ALVAREZ FLORES. Sueldo: $11651.36 \n",
            "# 6767. Nombre: FERNANDO ROMERO HERRERA. Sueldo: $11613.36 \n",
            "# 5654. Nombre: PABLO ALONSO GALLEGO. Sueldo: $10734.09 \n",
            "# 4323. Nombre: JORGE GUTIERREZ MARQUEZ. Sueldo: $10715.09 \n",
            "# 2232. Nombre: RAMON NAVARRO LEON. Sueldo: $11645.475 \n",
            "La antigüedad del trabajador # 2345 es 4 años\n",
            "La antigüedad del trabajador # 5754 es 1 años\n",
            "La antigüedad del trabajador # 5345 es 5 años\n",
            "La antigüedad del trabajador # 3267 es 4 años\n",
            "La antigüedad del trabajador # 8765 es 4 años\n",
            "La antigüedad del trabajador # 5454 es 3 años\n",
            "La antigüedad del trabajador # 3456 es 3 años\n",
            "La antigüedad del trabajador # 3445 es 3 años\n",
            "La antigüedad del trabajador # 9088 es 4 años\n",
            "La antigüedad del trabajador # 8877 es 4 años\n",
            "La antigüedad del trabajador # 6767 es 2 años\n",
            "La antigüedad del trabajador # 5654 es 2 años\n",
            "La antigüedad del trabajador # 4323 es 1 años\n",
            "La antigüedad del trabajador # 2232 es 5 años\n"
          ]
        }
      ]
    }
  ]
}