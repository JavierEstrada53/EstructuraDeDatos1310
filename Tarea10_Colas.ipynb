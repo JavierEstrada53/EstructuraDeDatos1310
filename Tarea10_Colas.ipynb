{
  "nbformat": 4,
  "nbformat_minor": 0,
  "metadata": {
    "colab": {
      "name": "Tarea10_Colas.ipynb",
      "provenance": [],
      "collapsed_sections": []
    },
    "kernelspec": {
      "name": "python3",
      "display_name": "Python 3"
    },
    "language_info": {
      "name": "python"
    }
  },
  "cells": [
    {
      "cell_type": "code",
      "metadata": {
        "id": "5MgaXOo6JADM",
        "colab": {
          "base_uri": "https://localhost:8080/"
        },
        "outputId": "0d913040-0ba2-46f5-d6c1-dfce1406741d"
      },
      "source": [
        "#importamos la queue de prioridad\n",
        "try:\n",
        "    import Queue as queue\n",
        "except ImportError:\n",
        "    \n",
        "    import queue\n",
        "\n",
        "barco_hundido = queue.PriorityQueue()\n",
        "\n",
        "#escribimos la cola aleatoriamente\n",
        "barco_hundido.put((5, \"Capitán\"))\n",
        "barco_hundido.put((2, \"3a Edad\"))\n",
        "barco_hundido.put((3, \"Hombres\"))\n",
        "barco_hundido.put((4, \"Maestre\"))\n",
        "barco_hundido.put((4, \"Mecánico\"))\n",
        "barco_hundido.put((2, \"Niños\"))\n",
        "barco_hundido.put((3, \"Mujeres\"))\n",
        "barco_hundido.put((4, \"Vigia\"))\n",
        "barco_hundido.put((4, \"Timonel\"))\n",
        "barco_hundido.put((1, \"Niñas\"))\n",
        "\n",
        "\n",
        "\n",
        "print(\"\\n\\t ::: Cola de prioridad al salir de un barco ::: \")\n",
        "print(\"\")\n",
        "print(barco_hundido.get())\n",
        "print(barco_hundido.get())\n",
        "print(barco_hundido.get())\n",
        "print(barco_hundido.get())\n",
        "print(barco_hundido.get())\n",
        "print(barco_hundido.get())\n",
        "print(barco_hundido.get())\n",
        "print(barco_hundido.get())\n",
        "print(barco_hundido.get())\n",
        "print(barco_hundido.get())\n"
      ],
      "execution_count": 13,
      "outputs": [
        {
          "output_type": "stream",
          "name": "stdout",
          "text": [
            "\n",
            "\t ::: Cola de prioridad al salir de un barco ::: \n",
            "\n",
            "(1, 'Niñas')\n",
            "(2, '3a Edad')\n",
            "(2, 'Niños')\n",
            "(3, 'Hombres')\n",
            "(3, 'Mujeres')\n",
            "(4, 'Maestre')\n",
            "(4, 'Mecánico')\n",
            "(4, 'Timonel')\n",
            "(4, 'Vigia')\n",
            "(5, 'Capitán')\n"
          ]
        }
      ]
    }
  ]
}