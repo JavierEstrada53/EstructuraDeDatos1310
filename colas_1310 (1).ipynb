{
  "nbformat": 4,
  "nbformat_minor": 0,
  "metadata": {
    "colab": {
      "name": "colas_1310.ipynb",
      "provenance": [],
      "collapsed_sections": []
    },
    "kernelspec": {
      "name": "python3",
      "display_name": "Python 3"
    },
    "language_info": {
      "name": "python"
    }
  },
  "cells": [
    {
      "cell_type": "markdown",
      "metadata": {
        "id": "Qqg8Et_gKnRa"
      },
      "source": [
        "#"
      ]
    },
    {
      "cell_type": "code",
      "metadata": {
        "id": "GBMLT9nvKUx5"
      },
      "source": [
        "class Queue:\n",
        "    def __init__( self ):\n",
        "        self.data = []\n",
        "    \n",
        "    def is_empty( self ):\n",
        "        return len( self.data ) == 0\n",
        "    \n",
        "    def length( self ):\n",
        "        return len( self.data )\n",
        "\n",
        "    def enqueue( self , value ):\n",
        "        self.data.append( value )\n",
        "    \n",
        "    def dequeue( self ):# --> primer valor de la cola\n",
        "        return self.data.pop( 0 )\n",
        "    \n",
        "    def to_string( self ):\n",
        "        for elem in self.data:\n",
        "            print(f' | {elem} | <--', end='')\n",
        "        print('')   "
      ],
      "execution_count": null,
      "outputs": []
    },
    {
      "cell_type": "code",
      "metadata": {
        "colab": {
          "base_uri": "https://localhost:8080/"
        },
        "id": "LPq7Gy4ANs-9",
        "outputId": "62eb8a39-18b0-415c-b20e-64857107b93c"
      },
      "source": [
        "cola= Queue()\n",
        "print('¿Está vacío?: ', cola.is_empty())\n",
        "print('Número de elementos: ', cola.length())\n",
        "cola.enqueue(10)\n",
        "cola.enqueue(20)\n",
        "cola.enqueue(30)\n",
        "print('¿Está vacío?: ', cola.is_empty())\n",
        "print('Número de elementos: ', cola.length())\n",
        "cola.enqueue(40)\n",
        "cola.enqueue(50)\n",
        "cola.enqueue(60)\n",
        "cola.to_string()\n",
        "siguiente = cola.dequeue()\n",
        "print('Atendiendo a: %s' %(siguiente))\n",
        "cola.to_string()"
      ],
      "execution_count": null,
      "outputs": [
        {
          "output_type": "stream",
          "name": "stdout",
          "text": [
            "¿Está vacío?:  True\n",
            "Número de elementos:  0\n",
            "¿Está vacío?:  False\n",
            "Número de elementos:  3\n",
            " | 10 | <-- | 20 | <-- | 30 | <-- | 40 | <-- | 50 | <-- | 60 | <--\n",
            "Atendiendo a: 10\n",
            " | 20 | <-- | 30 | <-- | 40 | <-- | 50 | <-- | 60 | <--\n"
          ]
        }
      ]
    },
    {
      "cell_type": "markdown",
      "metadata": {
        "id": "cGZACd5cQvxc"
      },
      "source": [
        "#Variantes del ADT Cola\n",
        "1. Circulares\n",
        "2. Prioridad\n",
        "    1. Acotada\n",
        "    2. No acotada"
      ]
    },
    {
      "cell_type": "code",
      "metadata": {
        "id": "cPXCnMPvQ8nJ"
      },
      "source": [
        "# implementación de la cola de prioridad acotada\n",
        "class BoundedPriorityQueue:\n",
        "    def __init__( self , niveles ):\n",
        "        self.__data = [ Queue() for x in range( niveles ) ]#con listas de python\n",
        "        #implementación con array\n",
        "        #self.__data = Array( niveles )\n",
        "        #self.__data = Array( niveles )\n",
        "        self.__size = 0 # variable que almacena los elementos dentro de la estructura\n",
        "\n",
        "    def is_empty( self ):\n",
        "        return self.__size == 0\n",
        "\n",
        "    def length( self ):\n",
        "        return self.__size \n",
        "\n",
        "    def enqueue( self , prioridad , elem ):\n",
        "        if prioridad < len( self.__data) \\\n",
        "            and prioridad >= 0:\n",
        "            self.__data[ prioridad ].enqueue( elem )\n",
        "            self.__size += 1\n",
        "\n",
        "    def dequeue( self ):\n",
        "        nivel = 0\n",
        "        while self.__data[nivel].is_empty() \\\n",
        "            and nivel < self.length(): \n",
        "            nivel += 1\n",
        "        \n",
        "        if nivel >= self.length():\n",
        "            print( 'La cola está vacía ')\n",
        "        else: \n",
        "            return self.__data[ nivel ].dequeue()\n",
        "\n",
        "    def to_string( self ):\n",
        "        prioridad = 0\n",
        "        for cola in self.__data:\n",
        "            print( f'Prioridad { prioridad } -->' , end='')\n",
        "            cola.to_string()\n",
        "            prioridad += 1"
      ],
      "execution_count": null,
      "outputs": []
    },
    {
      "cell_type": "code",
      "metadata": {
        "id": "ikWQ3QXCNADQ"
      },
      "source": [
        "# prueba de la cola de prioridad\n",
        "salvavidas = BoundedPriorityQueue( 7 )\n",
        "salvavidas.enqueue = ( 4 , 'Maestre')\n",
        "salvavidas.enqueue = ( 1 , 'Niños')\n",
        "salvavidas.enqueue = ( 4 , 'Mecánico')\n",
        "salvavidas.enqueue = ( 3 , 'Mujeres')\n",
        "salvavidas.enqueue = ( 2 , 'Tercera Edad')\n",
        "salvavidas.enqueue = ( 3 , 'Hombres')\n",
        "salvavidas.enqueue = ( 4 , 'Vigia')\n",
        "salvavidas.enqueue = ( 5 , 'Capitán')\n",
        "salvavidas.enqueue = ( 4 , 'Timonel')\n",
        "salvavidas.to_string()\n",
        "sig = salvavidas.dequeue()\n",
        "print(f'Subiendo { sig } al bote salvavidas')\n",
        "salvavidas.to_string()\n",
        "print('-.-.-.-')\n",
        "sig = salvavidas.dequeue()\n",
        "print(f'Subiendo { sig } al bote salvavidas')\n",
        "salvavidas.to_string()\n",
        "sig = salvavidas.dequeue()\n",
        "print(f'Subiendo { sig } al bote salvavidas')\n",
        "salvavidas.to_string()\n",
        "sig = salvavidas.dequeue()\n",
        "print(f'Subiendo { sig } al bote salvavidas')\n",
        "salvavidas.to_string()\n",
        "\n"
      ],
      "execution_count": null,
      "outputs": []
    },
    {
      "cell_type": "code",
      "metadata": {
        "id": "dlzqVDq5SDsh"
      },
      "source": [
        "#implementación de la colas de prioridad sin acotamientis\n",
        "class PriorityQueue:\n",
        "    def __init__( self ):\n",
        "        self.__data = []\n",
        "        self.__size = 0\n",
        "\n",
        "    def is_empty( self ):\n",
        "        return self.__size == 0\n",
        "\n",
        "    def length( self ):\n",
        "        return self.__size \n",
        "\n",
        "    def enqueue(self , prioridad , elem ):\n",
        "        existe = False\n",
        "        indice = 0\n",
        "        for index in range(len(self.__data)):\n",
        "            if self.__data[index][ \"prioridad\" ] == prioridad:\n",
        "                existe = True\n",
        "                indice = index\n",
        "        \n",
        "        if existe:\n",
        "            self.__data[indice][\"cola\"].enqueue(elem)\n",
        "        else:\n",
        "            self.__data.append( {\"prioridad\":prioridad , \"cola\": Queue() } )\n",
        "            self.__data[-1][\"cola\"].enqueue(elem)\n",
        "\n",
        "    def to_string( self ):\n",
        "        for cola in self.__data:\n",
        "            cola[\"cola\"].to_string()"
      ],
      "execution_count": 29,
      "outputs": []
    },
    {
      "cell_type": "code",
      "metadata": {
        "id": "mZCwmLVnTTc7",
        "colab": {
          "base_uri": "https://localhost:8080/"
        },
        "outputId": "bcdade28-e3cf-4c16-a6fd-bd84bf4e4d22"
      },
      "source": [
        "cp = PriorityQueue()\n",
        "cp.enqueue( 1 , 'niñas')\n",
        "cp.enqueue( 2 , 'niños')\n",
        "cp.enqueue( 2 , 'profesores')\n",
        "cp.enqueue( 0 , 'presidente de EU')\n",
        "cp.enqueue( 0 , 'presidente de MX')\n",
        "\n",
        "cp.to_string()"
      ],
      "execution_count": 32,
      "outputs": [
        {
          "output_type": "stream",
          "name": "stdout",
          "text": [
            " | niñas | <--\n",
            " | niños | <-- | profesores | <--\n",
            " | presidente de EU | <-- | presidente de MX | <--\n"
          ]
        }
      ]
    }
  ]
}