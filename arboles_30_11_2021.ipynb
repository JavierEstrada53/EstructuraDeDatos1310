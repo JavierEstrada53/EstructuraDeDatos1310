{
  "nbformat": 4,
  "nbformat_minor": 0,
  "metadata": {
    "colab": {
      "name": "arboles 30-11-2021.ipynb",
      "provenance": []
    },
    "kernelspec": {
      "name": "python3",
      "display_name": "Python 3"
    },
    "language_info": {
      "name": "python"
    }
  },
  "cells": [
    {
      "cell_type": "markdown",
      "metadata": {
        "id": "SiQQy3GpKRAh"
      },
      "source": [
        "# Clase del 30 de Noviembre de 2021\n",
        "EDD"
      ]
    },
    {
      "cell_type": "code",
      "metadata": {
        "id": "QJcs8NoYJv8u"
      },
      "source": [
        "class NodoBinario:\n",
        "    def __init__( self , value , left = None , right = None ):\n",
        "        self.data = value\n",
        "        self.left = left\n",
        "        self.right = right\n",
        "\n",
        "class NodoBinarioArbol:\n",
        "    def __init__( self ):\n",
        "        self.root = None\n",
        "\n",
        "    def insert( self , value ):\n",
        "        if self.root == None:\n",
        "            self.root = NodoBinario( value )\n",
        "        else:\n",
        "            self.__insert_nodo( self.root , value )     \n",
        "\n",
        "    def __insert_nodo( self , nodo , value ):\n",
        "        if nodo.data == value:\n",
        "            pass\n",
        "        elif value < nodo.data:\n",
        "            if nodo.left == None:\n",
        "                nodo.left = NodoBinario( value )\n",
        "            else:\n",
        "                self.__insert_nodo( nodo.left , value )\n",
        "        else:\n",
        "            if nodo.right == None:\n",
        "                nodo.right = NodoBinario( value )\n",
        "            else:\n",
        "                self.__insert_nodo( nodo.right , value )\n",
        "\n",
        "    def transversal( self , formato = \"Inorden\"):\n",
        "        if formato == \"Postorden\":\n",
        "            self.recorrido_pos( self.root )\n",
        "        elif formato == \"Preorden\":\n",
        "            self.recorrido_pre( self.root )\n",
        "        else: # inorden\n",
        "            self.recorrido_in( self.root )\n",
        "        print()                         \n",
        "\n",
        "    def recorrido_pos( self , nodo ):\n",
        "        if nodo != None:\n",
        "            self.recorrido_pos( nodo.left )\n",
        "            self.recorrido_pos( nodo.right )\n",
        "            print( str(nodo.data) , end = \" , \" )                       \n",
        "\n",
        "    def recorrido_pre( self , nodo ):\n",
        "        if nodo != None:\n",
        "            print( str(nodo.data) , end = \" , \" )\n",
        "            self.recorrido_pre( nodo.left )\n",
        "            self.recorrido_pre( nodo.right )\n",
        "                                   \n",
        "    def recorrido_in( self , nodo ):\n",
        "        if nodo != None:\n",
        "            self.recorrido_in( nodo.left )\n",
        "            print( str(nodo.data) , end = \" , \" )\n",
        "            self.recorrido_in( nodo.right )\n",
        "\n",
        "    def search( self , value ):\n",
        "        if self.root == None:\n",
        "            print(\"El árbol está vacío\")\n",
        "            return None\n",
        "        else:\n",
        "            self.__search( self.root , value )\n",
        "\n",
        "    def __search( self , nodo , value ):\n",
        "        if nodo.data == None:\n",
        "            print(\"El dato no existe\")\n",
        "            return None\n",
        "\n",
        "        elif nodo.data == value:\n",
        "            print(\"Encontrado\")\n",
        "            return nodo\n",
        "\n",
        "        elif value < nodo.data:\n",
        "            return self.__buscar( nodo.left , value )\n",
        "\n",
        "        else:\n",
        "            return self.__buscar( nodo.right , value )"
      ],
      "execution_count": 38,
      "outputs": []
    },
    {
      "cell_type": "code",
      "metadata": {
        "colab": {
          "base_uri": "https://localhost:8080/"
        },
        "id": "VrdEt6ma9167",
        "outputId": "0b221dfb-9b7b-4df3-99f2-703942121618"
      },
      "source": [
        "arbol1 = NodoBinarioArbol()\n",
        "arbol1.insert( 60 )\n",
        "arbol1.insert( 30 )\n",
        "arbol1.insert( 15 )\n",
        "arbol1.insert( 40 )\n",
        "arbol1.insert( 80 )\n",
        "arbol1.transversal()#inorden\n",
        "arbol1.transversal(\"Postorden\")\n",
        "arbol1.transversal(\"Preorden\")\n",
        "arbol1.search( 60 )"
      ],
      "execution_count": 39,
      "outputs": [
        {
          "output_type": "stream",
          "name": "stdout",
          "text": [
            "15 , 30 , 40 , 60 , 80 , \n",
            "15 , 40 , 30 , 80 , 60 , \n",
            "60 , 30 , 15 , 40 , 80 , \n",
            "Encontrado\n"
          ]
        }
      ]
    }
  ]
}