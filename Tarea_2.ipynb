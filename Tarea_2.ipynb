{
  "nbformat": 4,
  "nbformat_minor": 0,
  "metadata": {
    "colab": {
      "name": "Tarea_2.ipynb",
      "provenance": [],
      "collapsed_sections": []
    },
    "kernelspec": {
      "name": "python3",
      "display_name": "Python 3"
    },
    "language_info": {
      "name": "python"
    }
  },
  "cells": [
    {
      "cell_type": "markdown",
      "metadata": {
        "id": "N0DzbtF2C8z5"
      },
      "source": [
        "1) Fibonacci"
      ]
    },
    {
      "cell_type": "code",
      "metadata": {
        "colab": {
          "base_uri": "https://localhost:8080/"
        },
        "id": "es8q_yGaN091",
        "outputId": "a5cf818c-00f1-4703-f3d3-257bac5a7ca7"
      },
      "source": [
        "def fib ( n ):\n",
        "    if n == 0:\n",
        "        return 0\n",
        "    if n == 1:#si n vale 1 regresa 1 porque no hay número antes de 1\n",
        "        return 1\n",
        "    else:\n",
        "      return fib(n-1) + fib(n-2)\n",
        "\n",
        "n = int(input(\"Escribe un entero menor a 30: \\n\"))\n",
        "print(\"El número de Fibonacci es: \")\n",
        "#no usar números grandes para la rápida ejecución del programa\n",
        "print( fib (n) )\n"
      ],
      "execution_count": null,
      "outputs": [
        {
          "output_type": "stream",
          "name": "stdout",
          "text": [
            "Escribe un entero menor a 30: \n",
            "10\n",
            "El número de Fibonacci es: \n",
            "55\n"
          ]
        }
      ]
    },
    {
      "cell_type": "markdown",
      "metadata": {
        "id": "-l0Cr7GwFaTa"
      },
      "source": [
        "2) Suma con recursividad"
      ]
    },
    {
      "cell_type": "code",
      "metadata": {
        "id": "vYAOU-MSFZ2o"
      },
      "source": [
        "def suma(lista):\n",
        "  if len(lista) == 0:\n",
        "    return 0\n",
        "  if len(lista) == 1:\n",
        "    return lista[0]\n",
        "  else:\n",
        "    return lista[0] + sumarLista(lista[1:])\n",
        "\n",
        "numeros= [3,9,13,45,2,100]\n",
        "resultado = suma(numeros)\n",
        "print(\"La suma de los número es igual a %i\" % resultado) "
      ],
      "execution_count": null,
      "outputs": []
    },
    {
      "cell_type": "markdown",
      "metadata": {
        "id": "A2UAQ8XMDFb0"
      },
      "source": [
        "3) Contador"
      ]
    },
    {
      "cell_type": "code",
      "metadata": {
        "id": "49GXK_V8DE0y"
      },
      "source": [
        "contador = 32\n",
        "for x in range(contador):\n",
        "  print(contador)\n",
        "  contador-=1\n",
        "  if(contador==0):\n",
        "    print(contador)\n",
        "    print(\"BOOMMMMM !!!\")"
      ],
      "execution_count": null,
      "outputs": []
    },
    {
      "cell_type": "markdown",
      "metadata": {
        "id": "XCbOq_nPJM4e"
      },
      "source": [
        "4) Eliminar de una lista o\n",
        "arreglo, el elemento que está en la posición media"
      ]
    },
    {
      "cell_type": "code",
      "metadata": {
        "id": "l0-nYORQJK_d"
      },
      "source": [
        "secuencia = [5,6,3,13,54]\n",
        "if (len(secuencia) % 2 == 1):\n",
        "  secuencia.pop(len(secuencia) // 2)\n",
        "\n",
        "print(secuencia)"
      ],
      "execution_count": null,
      "outputs": []
    }
  ]
}